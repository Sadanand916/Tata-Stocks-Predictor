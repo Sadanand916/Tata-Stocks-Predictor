{
  "nbformat": 4,
  "nbformat_minor": 0,
  "metadata": {
    "colab": {
      "provenance": []
    },
    "kernelspec": {
      "name": "python3",
      "display_name": "Python 3"
    },
    "language_info": {
      "name": "python"
    }
  },
  "cells": [
    {
      "cell_type": "code",
      "execution_count": null,
      "metadata": {
        "id": "ZuqGVPRxe6K-"
      },
      "outputs": [],
      "source": [
        "import numpy as np\n",
        "import pandas as pd\n",
        "import plotly.graph_objects as go\n",
        "data = pd.read_csv(\"TATAMOTORS.NS.csv\")\n",
        "print(data.head())"
      ]
    },
    {
      "cell_type": "code",
      "source": [
        "figure = go.Figure(data=[go.Candlestick(x=data[\"Date\"],\n",
        "                                        open=data[\"Open\"], high=data[\"High\"],\n",
        "                                        low=data[\"Low\"], close=data[\"Close\"])])\n",
        "figure.update_layout(title = \"Tata Motors Stock Price Analysis\", xaxis_rangeslider_visible=False)\n",
        "figure.show()"
      ],
      "metadata": {
        "id": "bUCyIZqafbS9"
      },
      "execution_count": null,
      "outputs": []
    },
    {
      "cell_type": "code",
      "source": [
        "print(data.corr())"
      ],
      "metadata": {
        "id": "KN9uwBMZfgcF"
      },
      "execution_count": null,
      "outputs": []
    },
    {
      "cell_type": "code",
      "source": [
        "!pip install autots"
      ],
      "metadata": {
        "id": "DKwNxQG3fkj4"
      },
      "execution_count": null,
      "outputs": []
    },
    {
      "cell_type": "code",
      "source": [
        "from autots import AutoTS\n",
        "model = AutoTS(forecast_length=5, frequency='infer', ensemble='simple')\n",
        "model = model.fit(data, date_col='Date', value_col='Close', id_col=None)\n",
        "prediction = model.predict()\n",
        "forecast = prediction.forecast\n",
        "print(forecast)"
      ],
      "metadata": {
        "id": "72sCalv3fnEC"
      },
      "execution_count": null,
      "outputs": []
    }
  ]
}